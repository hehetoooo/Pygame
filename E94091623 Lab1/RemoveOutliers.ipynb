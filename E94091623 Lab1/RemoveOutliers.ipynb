{
 "cells": [
  {
   "cell_type": "code",
   "execution_count": 8,
   "metadata": {},
   "outputs": [
    {
     "name": "stdin",
     "output_type": "stream",
     "text": [
      "Enter the number of smallest and largest values to remove:  1\n",
      "Enter a value (q or Q to quit):  1\n",
      "Enter a value (q or Q to quit):  2\n",
      "Enter a value (q or Q to quit):  3\n",
      "Enter a value (q or Q to quit):  4\n",
      "Enter a value (q or Q to quit):  5\n",
      "Enter a value (q or Q to quit):  6\n",
      "Enter a value (q or Q to quit):  7\n",
      "Enter a value (q or Q to quit):  8\n",
      "Enter a value (q or Q to quit):  9\n",
      "Enter a value (q or Q to quit):  q\n"
     ]
    },
    {
     "name": "stdout",
     "output_type": "stream",
     "text": [
      "The original data:  [1, 2, 3, 4, 5, 6, 7, 8, 9]\n",
      "The data with the outliers removed:  [2, 3, 4, 5, 6, 7, 8]\n",
      "The outliers:  [1, 9]\n"
     ]
    }
   ],
   "source": [
    "onetime = int(input('Enter the number of smallest and largest values to remove: '))\n",
    "original_data = [] \n",
    "while True:   \n",
    "    data = str(input('Enter a value (q or Q to quit): '))\n",
    "    if data == 'q':\n",
    "        break\n",
    "    elif data == 'Q':\n",
    "        break\n",
    "    else:\n",
    "        original_data.append(int(data))       #把data加入append \n",
    "print('The original data: ',original_data)\n",
    "\n",
    "original_data.sort()                          #sort:使data按大小排列\n",
    "max = original_data[-onetime:]                #找出 max data\n",
    "min = original_data[:onetime]                 #找出 min data\n",
    "\n",
    "\n",
    "outliers:[]\n",
    "outliers = min + max\n",
    "\n",
    "\n",
    "ORdate=[]                                     #ORdate = outliers removed data\n",
    "ORdata = original_data[onetime:-onetime]\n",
    "\n",
    "\n",
    "print('The data with the outliers removed: ',ORdata)\n",
    "print('The outliers: ',outliers)"
   ]
  },
  {
   "cell_type": "code",
   "execution_count": null,
   "metadata": {},
   "outputs": [],
   "source": []
  }
 ],
 "metadata": {
  "kernelspec": {
   "display_name": "Python 3",
   "language": "python",
   "name": "python3"
  },
  "language_info": {
   "codemirror_mode": {
    "name": "ipython",
    "version": 3
   },
   "file_extension": ".py",
   "mimetype": "text/x-python",
   "name": "python",
   "nbconvert_exporter": "python",
   "pygments_lexer": "ipython3",
   "version": "3.8.3"
  }
 },
 "nbformat": 4,
 "nbformat_minor": 4
}
